{
 "cells": [
  {
   "cell_type": "code",
   "execution_count": null,
   "metadata": {},
   "outputs": [],
   "source": [
    "#import packages\n",
    "import pandas as pd "
   ]
  },
  {
   "cell_type": "code",
   "execution_count": null,
   "metadata": {},
   "outputs": [],
   "source": [
    "#get default path \n",
    "import os\n",
    "print (os.path.abspath('.'))                                           "
   ]
  },
  {
   "cell_type": "code",
   "execution_count": null,
   "metadata": {},
   "outputs": [],
   "source": [
    "# show all columns\n",
    "#pd.set_option('display.max_columns', None)\n",
    "# show all rows \n",
    "pd.set_option('display.max_rows', None)\n",
    "# set value as 100, default is 50\n",
    "#pd.set_option('max_colwidth',100)"
   ]
  },
  {
   "cell_type": "code",
   "execution_count": null,
   "metadata": {},
   "outputs": [],
   "source": [
    "#xiaohongshu datasets, same column items \n",
    "x1 = pd.read_excel(\"x1.xlsx\") \n",
    "x2 = pd.read_excel(\"x2.xlsx\") \n",
    "x3 = pd.read_excel(\"x3.xlsx\") \n",
    "x4 = pd.read_excel(\"x4.xlsx\") \n",
    "x5 = pd.read_excel(\"x5.xlsx\") \n",
    "x6 = pd.read_excel(\"x6.xlsx\") "
   ]
  },
  {
   "cell_type": "code",
   "execution_count": null,
   "metadata": {},
   "outputs": [],
   "source": [
    "#weibo datasets, dame column items \n",
    "w1 = pd.read_excel(\"w1.xlsx\")\n",
    "w2 = pd.read_excel(\"w2.xlsx\")\n",
    "w3 = pd.read_excel(\"w3.xlsx\")\n",
    "w4 = pd.read_excel(\"w4.xlsx\")\n",
    "w5 = pd.read_excel(\"w5.xlsx\")\n",
    "w6 = pd.read_excel(\"w6.xlsx\")"
   ]
  },
  {
   "cell_type": "code",
   "execution_count": null,
   "metadata": {},
   "outputs": [],
   "source": [
    "#e-commerce tmall datasets\n",
    "ec = pd.read_excel(\"e.xlsx\") "
   ]
  },
  {
   "cell_type": "code",
   "execution_count": null,
   "metadata": {},
   "outputs": [],
   "source": [
    "#merge 6 datasets from xiaohongshu \n",
    "xtotal2= [x1, x2, x3, x4, x5, x6]\n",
    "xtotal2= pd.concat(xtotal2)"
   ]
  },
  {
   "cell_type": "code",
   "execution_count": null,
   "metadata": {},
   "outputs": [],
   "source": [
    "xtotal.describe()"
   ]
  },
  {
   "cell_type": "code",
   "execution_count": null,
   "metadata": {
    "scrolled": true
   },
   "outputs": [],
   "source": [
    "xtotal.info()"
   ]
  },
  {
   "cell_type": "code",
   "execution_count": null,
   "metadata": {},
   "outputs": [],
   "source": [
    "#slice data by columns\n",
    "column_n = ['搜索关键词','内容','url','情感','作者','性别','用户id','用户地址','关键词','item_id','更新时间']"
   ]
  },
  {
   "cell_type": "code",
   "execution_count": null,
   "metadata": {},
   "outputs": [],
   "source": [
    "a2 = pd.DataFrame(xtotal2,columns = column_n)"
   ]
  },
  {
   "cell_type": "code",
   "execution_count": null,
   "metadata": {},
   "outputs": [],
   "source": [
    "a2.head()"
   ]
  },
  {
   "cell_type": "code",
   "execution_count": null,
   "metadata": {},
   "outputs": [],
   "source": [
    "a2.to_csv(\"a2.csv\")  ## export xhs.csv to Postgresql "
   ]
  },
  {
   "cell_type": "code",
   "execution_count": null,
   "metadata": {},
   "outputs": [],
   "source": [
    "## slice weibo data \n",
    "wtotal=[w1,w2,w3,w4,w5,w6]"
   ]
  },
  {
   "cell_type": "code",
   "execution_count": null,
   "metadata": {},
   "outputs": [],
   "source": [
    "wtotal=pd.concat(wtotal)"
   ]
  },
  {
   "cell_type": "code",
   "execution_count": null,
   "metadata": {},
   "outputs": [],
   "source": [
    "wtotal.info()"
   ]
  },
  {
   "cell_type": "code",
   "execution_count": null,
   "metadata": {},
   "outputs": [],
   "source": [
    "column_n_w = ['搜索关键词','内容','url','情感','作者','性别','用户id','用户地址','关键词','item_id','更新时间']"
   ]
  },
  {
   "cell_type": "code",
   "execution_count": null,
   "metadata": {},
   "outputs": [],
   "source": [
    "b2 = pd.DataFrame(wtotal, columns = column_n_w)"
   ]
  },
  {
   "cell_type": "code",
   "execution_count": null,
   "metadata": {},
   "outputs": [],
   "source": [
    "b2.head()"
   ]
  },
  {
   "cell_type": "code",
   "execution_count": null,
   "metadata": {},
   "outputs": [],
   "source": [
    "b2.to_csv(\"b2.csv\") ##export weibo.csv to postgresql "
   ]
  },
  {
   "cell_type": "code",
   "execution_count": null,
   "metadata": {},
   "outputs": [],
   "source": [
    "ec.head()"
   ]
  },
  {
   "cell_type": "code",
   "execution_count": null,
   "metadata": {
    "scrolled": true
   },
   "outputs": [],
   "source": [
    "ec.info()"
   ]
  },
  {
   "cell_type": "code",
   "execution_count": null,
   "metadata": {},
   "outputs": [],
   "source": [
    "column_n_ec = ['搜索关键词','内容','url','情感','作者','用户id','关键词','item_id','更新时间']"
   ]
  },
  {
   "cell_type": "code",
   "execution_count": null,
   "metadata": {},
   "outputs": [],
   "source": [
    "c2 = pd.DataFrame (ec, columns = column_n_ec)"
   ]
  },
  {
   "cell_type": "code",
   "execution_count": null,
   "metadata": {},
   "outputs": [],
   "source": [
    "c2.to_csv(\"c2.csv\")  ##export ec.csv to postgresql "
   ]
  },
  {
   "cell_type": "code",
   "execution_count": null,
   "metadata": {},
   "outputs": [],
   "source": []
  },
  {
   "cell_type": "code",
   "execution_count": null,
   "metadata": {},
   "outputs": [],
   "source": [
    "https://blog.csdn.net/weixin_44436319/article/details/116357008?ops_request_misc=%257B%2522request%255Fid%2522%253A%2522163283884016780366584794%2522%252C%2522scm%2522%253A%252220140713.130102334.pc%255Fall.%2522%257D&request_id=163283884016780366584794&biz_id=0&utm_medium=distribute.pc_search_result.none-task-blog-2~all~first_rank_ecpm_v1~rank_v31_ecpm-10-116357008.first_rank_v2_pc_rank_v29&utm_term=python+购物篮关联分析&spm=1018.2226.3001.4187 "
   ]
  },
  {
   "cell_type": "code",
   "execution_count": null,
   "metadata": {},
   "outputs": [],
   "source": [
    "#import packages\n",
    "import pandas as pd\n",
    "import numpy as np\n",
    "\n",
    "from mlxtend.frequent_patterns import apriori\n",
    "from mlxtend.frequent_patterns import association_rules"
   ]
  },
  {
   "cell_type": "code",
   "execution_count": null,
   "metadata": {},
   "outputs": [],
   "source": [
    "df = pd.read_csv(\"mention.csv\")"
   ]
  },
  {
   "cell_type": "code",
   "execution_count": null,
   "metadata": {},
   "outputs": [],
   "source": [
    "df.head() # one-hot shot encoding format "
   ]
  },
  {
   "cell_type": "code",
   "execution_count": null,
   "metadata": {},
   "outputs": [],
   "source": [
    "df.info()"
   ]
  },
  {
   "cell_type": "code",
   "execution_count": null,
   "metadata": {},
   "outputs": [],
   "source": [
    "df.columns"
   ]
  },
  {
   "cell_type": "code",
   "execution_count": null,
   "metadata": {},
   "outputs": [],
   "source": [
    "dfr= df[df['group']== \"emerging single focus\"]  ##slice rows with conditions "
   ]
  },
  {
   "cell_type": "code",
   "execution_count": null,
   "metadata": {
    "scrolled": true
   },
   "outputs": [],
   "source": [
    "df.group"
   ]
  },
  {
   "cell_type": "code",
   "execution_count": null,
   "metadata": {},
   "outputs": [],
   "source": [
    "#dftest = df[(df['group']== \"emerging single focus\")|(df['group'] == \"establish multi focus\")|(df['group'] == \"established single focus\")] \n",
    "\n",
    "#dftest = df[df['group'] == \"prestige beauty\"]\n",
    "\n",
    "dftest = df[df['group'] == \"maestro\"] "
   ]
  },
  {
   "cell_type": "code",
   "execution_count": null,
   "metadata": {},
   "outputs": [],
   "source": [
    "dftest.shape"
   ]
  },
  {
   "cell_type": "code",
   "execution_count": null,
   "metadata": {},
   "outputs": [],
   "source": [
    "columnx=[ 'brandname', 'celebrity', 'brandheritage',\n",
    "       'brandvalue', 'design', 'logo', 'quality', 'rd', 'team', 'innovation',\n",
    "       'format', 'color', 'look', 'efficacy', 'ingredients', 'sensorial',\n",
    "       'fragrance', 'texture', 'application', 'convenience', 'concept',\n",
    "       'aesthetic', 'inspiration', 'gift', 'luxury', 'price', 'channel',\n",
    "       'lifestyle', 'service', 'occasion', 'limited']"
   ]
  },
  {
   "cell_type": "code",
   "execution_count": null,
   "metadata": {},
   "outputs": [],
   "source": [
    "df2=pd.DataFrame(dftest, columns = columnx)"
   ]
  },
  {
   "cell_type": "code",
   "execution_count": null,
   "metadata": {},
   "outputs": [],
   "source": [
    "#can be changed:  min_support=0.07\n",
    "frequent_itemsets = apriori(df2, min_support=0.02, use_colnames=True, max_len = 2)\n",
    "rules = association_rules(frequent_itemsets, metric='lift', min_threshold=1)\n",
    "rules.sort_values('lift',ascending = False).head(50)"
   ]
  },
  {
   "cell_type": "code",
   "execution_count": null,
   "metadata": {
    "scrolled": true
   },
   "outputs": [],
   "source": [
    "rules.shape"
   ]
  },
  {
   "cell_type": "code",
   "execution_count": null,
   "metadata": {},
   "outputs": [],
   "source": [
    "rules.to_csv(\"maestro1010.csv\")"
   ]
  }
 ],
 "metadata": {
  "kernelspec": {
   "display_name": "Python 3",
   "language": "python",
   "name": "python3"
  },
  "language_info": {
   "codemirror_mode": {
    "name": "ipython",
    "version": 3
   },
   "file_extension": ".py",
   "mimetype": "text/x-python",
   "name": "python",
   "nbconvert_exporter": "python",
   "pygments_lexer": "ipython3",
   "version": "3.8.3"
  }
 },
 "nbformat": 4,
 "nbformat_minor": 4
}
